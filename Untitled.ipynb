{
 "cells": [
  {
   "cell_type": "code",
   "execution_count": 1,
   "metadata": {},
   "outputs": [],
   "source": [
    "import torch\n",
    "from src.trainer import MINETrainer\n",
    "from src.models.gan import Discriminator, Generator\n",
    "from src.models.mine import MINE\n",
    "import numpy as np"
   ]
  },
  {
   "cell_type": "code",
   "execution_count": 2,
   "metadata": {},
   "outputs": [],
   "source": [
    "trainer = MINETrainer(\n",
    "    g=Generator(),\n",
    "    g_ma=Generator(),\n",
    "    d=Discriminator(),\n",
    "    mine=MINE(),\n",
    "    batch_size=8,\n",
    "    z_dim=10,\n",
    ")"
   ]
  },
  {
   "cell_type": "code",
   "execution_count": 3,
   "metadata": {},
   "outputs": [],
   "source": [
    "x = np.array([(i, j) for i in range(-4, 5, 2)\n",
    "                      for j in range(-4, 5, 2)] * 10000)\n",
    "x = x + 0.1 * np.random.randn(*x.shape)"
   ]
  },
  {
   "cell_type": "code",
   "execution_count": null,
   "metadata": {},
   "outputs": [
    {
     "name": "stdout",
     "output_type": "stream",
     "text": [
      "EPOCH: {} D(x): {} G(x): {} MI: {} tensor(0.8805, grad_fn=<SubBackward0>) tensor(0.9425, grad_fn=<SubBackward0>) tensor(0.1166, grad_fn=<SubBackward0>)\n",
      "EPOCH: {} D(x): {} G(x): {} MI: {} tensor(0.5683, grad_fn=<SubBackward0>) tensor(0.6586, grad_fn=<SubBackward0>) tensor(0.1245, grad_fn=<SubBackward0>)\n",
      "EPOCH: {} D(x): {} G(x): {} MI: {} tensor(0.3637, grad_fn=<SubBackward0>) tensor(0.3766, grad_fn=<SubBackward0>) tensor(-0.0446, grad_fn=<SubBackward0>)\n",
      "EPOCH: {} D(x): {} G(x): {} MI: {} tensor(0.2350, grad_fn=<SubBackward0>) tensor(0.2603, grad_fn=<SubBackward0>) tensor(0.2100, grad_fn=<SubBackward0>)\n",
      "EPOCH: {} D(x): {} G(x): {} MI: {} tensor(0.2179, grad_fn=<SubBackward0>) tensor(0.2752, grad_fn=<SubBackward0>) tensor(0.0270, grad_fn=<SubBackward0>)\n",
      "EPOCH: {} D(x): {} G(x): {} MI: {} tensor(0.2200, grad_fn=<SubBackward0>) tensor(0.1939, grad_fn=<SubBackward0>) tensor(-0.1357, grad_fn=<SubBackward0>)\n",
      "EPOCH: {} D(x): {} G(x): {} MI: {} tensor(0.1724, grad_fn=<SubBackward0>) tensor(0.1742, grad_fn=<SubBackward0>) tensor(0.0961, grad_fn=<SubBackward0>)\n",
      "EPOCH: {} D(x): {} G(x): {} MI: {} tensor(0.1727, grad_fn=<SubBackward0>) tensor(0.1606, grad_fn=<SubBackward0>) tensor(-0.0191, grad_fn=<SubBackward0>)\n",
      "EPOCH: {} D(x): {} G(x): {} MI: {} tensor(0.1526, grad_fn=<SubBackward0>) tensor(0.1360, grad_fn=<SubBackward0>) tensor(-0.0625, grad_fn=<SubBackward0>)\n",
      "EPOCH: {} D(x): {} G(x): {} MI: {} tensor(0.1311, grad_fn=<SubBackward0>) tensor(0.1133, grad_fn=<SubBackward0>) tensor(0.0117, grad_fn=<SubBackward0>)\n"
     ]
    }
   ],
   "source": [
    "trainer.train(torch.FloatTensor(x), 100)"
   ]
  },
  {
   "cell_type": "code",
   "execution_count": null,
   "metadata": {},
   "outputs": [],
   "source": []
  }
 ],
 "metadata": {
  "kernelspec": {
   "display_name": "Python 3",
   "language": "python",
   "name": "python3"
  },
  "language_info": {
   "codemirror_mode": {
    "name": "ipython",
    "version": 3
   },
   "file_extension": ".py",
   "mimetype": "text/x-python",
   "name": "python",
   "nbconvert_exporter": "python",
   "pygments_lexer": "ipython3",
   "version": "3.5.2"
  }
 },
 "nbformat": 4,
 "nbformat_minor": 2
}
